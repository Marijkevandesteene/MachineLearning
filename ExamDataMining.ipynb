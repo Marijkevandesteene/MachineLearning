{
 "cells": [
  {
   "cell_type": "code",
   "execution_count": 1,
   "metadata": {},
   "outputs": [],
   "source": [
    "# Importing packages\n",
    "import numpy as np  # for matrix and data manipulation\n",
    "import pandas as pd  # for DataFrames\n",
    "import matplotlib.pyplot as plt  # for plotting\n",
    "import seaborn as sns  # for more plotitng\n",
    "import statsmodels.api as sm  # for statistical modelling\n",
    "import scikitplot as skplt  # for scikit-learn plotting\n",
    "\n",
    "from sklearn.preprocessing import StandardScaler  # for preprocessing & scaling\n",
    "from sklearn.preprocessing import PolynomialFeatures  # for polynomial features preprocessing\n",
    "from sklearn.impute import SimpleImputer   # for missing values imputation\n",
    "from sklearn.model_selection import train_test_split  # train-test splits\n",
    "from sklearn.model_selection import StratifiedKFold  # K-fold resampling, stratified\n",
    "from sklearn.model_selection import GridSearchCV  # Hyperparameter tuning\n",
    "from sklearn.calibration import CalibratedClassifierCV  # Hyperparameter tuning with calibration\n",
    "from sklearn.calibration import calibration_curve  # calibration curve plotting\n",
    "from sklearn.calibration import CalibrationDisplay  # calibration curve plotting\n",
    "from sklearn.metrics import confusion_matrix  # performance metrics, confusion matrix\n",
    "from sklearn.metrics import classification_report  # performance matrix classifiaction report\n",
    "from sklearn.metrics import roc_auc_score  # Area Under Receiver Operating Characteristics\n",
    "from sklearn.metrics import roc_curve  # ROC\n",
    "from sklearn.metrics import RocCurveDisplay  # ROC plotting\n",
    "from sklearn.metrics import accuracy_score  # performance metric accuracy (0/1) score\n",
    "from sklearn.metrics import precision_score  # performance metric\n",
    "from sklearn.linear_model import LogisticRegression  # Logistic regression modelling\n",
    "from sklearn.neighbors import KNeighborsClassifier  # KNN\n",
    "from sklearn.ensemble import RandomForestClassifier  # Random Forest for classification\n",
    "from sklearn.ensemble import GradientBoostingClassifier  # GBM for classification\n",
    "from sklearn.svm import SVC  # SVM for classification\n",
    "from sklearn.utils import resample  # Resampling\n",
    "from imblearn.over_sampling import SMOTE  # Synthetic upsampling"
   ]
  },
  {
   "cell_type": "code",
   "execution_count": 2,
   "metadata": {},
   "outputs": [],
   "source": [
    "# Setting plotting style\n",
    "plt.style.use('seaborn-v0_8-darkgrid')"
   ]
  },
  {
   "cell_type": "code",
   "execution_count": 3,
   "metadata": {},
   "outputs": [],
   "source": [
    "# Jupyter magic command to show plots inline immediately\n",
    "%matplotlib inline"
   ]
  },
  {
   "cell_type": "code",
   "execution_count": 4,
   "metadata": {},
   "outputs": [],
   "source": [
    "# Setting seed\n",
    "seed = 43\n",
    "np.random.seed(seed)"
   ]
  },
  {
   "cell_type": "code",
   "execution_count": 6,
   "metadata": {},
   "outputs": [
    {
     "name": "stdout",
     "output_type": "stream",
     "text": [
      "Training set shape: (5000, 53)\n",
      "Training set shape: (500, 50)\n"
     ]
    }
   ],
   "source": [
    "# Loading the house price dataset\n",
    "data_file_path = './'  # Set to the path of folder where you can find 'train_V2.csv' and 'score.csv'\n",
    "\n",
    "# Training data\n",
    "train_V2 = pd.read_csv(data_file_path + 'train_V2.csv')\n",
    "score = pd.read_csv(data_file_path + 'score.csv')\n",
    "print('Training set shape: {}' .format(train_V2.shape))\n",
    "print('Training set shape: {}' .format(score.shape))"
   ]
  }
 ],
 "metadata": {
  "kernelspec": {
   "display_name": "base",
   "language": "python",
   "name": "python3"
  },
  "language_info": {
   "codemirror_mode": {
    "name": "ipython",
    "version": 3
   },
   "file_extension": ".py",
   "mimetype": "text/x-python",
   "name": "python",
   "nbconvert_exporter": "python",
   "pygments_lexer": "ipython3",
   "version": "3.11.7"
  }
 },
 "nbformat": 4,
 "nbformat_minor": 2
}
